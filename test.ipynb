{
 "cells": [
  {
   "cell_type": "code",
   "execution_count": null,
   "metadata": {},
   "outputs": [],
   "source": [
    "forecast = df_forecast.copy()\n",
    "forecast = forecast.set_index('Date')\n",
    "forecast = forecast.rename_axis(index=None)\n",
    "forecast.index = pd.to_datetime(forecast.index)\n",
    "df_original = original.copy()\n",
    "df_original = df_original.set_index('Date')\n",
    "df_original = df_original.rename_axis(index=None)\n",
    "df_original.index = pd.to_datetime(df_original.index)"
   ]
  },
  {
   "cell_type": "code",
   "execution_count": null,
   "metadata": {},
   "outputs": [],
   "source": [
    "# Merge the actual and forecasted dataframes based on the index\n",
    "df_merged = pd.merge(df_original, forecast, left_index=True, right_index=True, how='inner')\n",
    "\n",
    "# Plotting the actual vs forecasted values\n",
    "plt.figure(figsize=(15, 7))\n",
    "plt.plot(df_merged.index, df_merged['Open_x'], label='Actual Value')\n",
    "plt.plot(df_merged.index, df_merged['Open_y'], label='Forecasted Value', alpha=0.7)\n",
    "plt.xlabel('Timestamp')\n",
    "plt.ylabel('Value')\n",
    "plt.title('Actual vs Forecasted Values for Apple')\n",
    "plt.legend()\n",
    "plt.show()"
   ]
  },
  {
   "cell_type": "code",
   "execution_count": null,
   "metadata": {},
   "outputs": [],
   "source": [
    "# Calculating RMSE\n",
    "from math import sqrt\n",
    "rmse = sqrt(mean_squared_error(df_merged['Open_x'], df_merged['Open_y']))\n",
    "print(f\"The RMSE for the forecasted period is: {rmse}\")"
   ]
  }
 ],
 "metadata": {
  "language_info": {
   "name": "python"
  }
 },
 "nbformat": 4,
 "nbformat_minor": 2
}
