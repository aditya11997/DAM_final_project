{
 "cells": [
  {
   "cell_type": "code",
   "execution_count": 2,
   "metadata": {},
   "outputs": [],
   "source": [
    "import datetime\n",
    "import numpy as np\n",
    "import pandas as pd\n",
    "import requests\n",
    "from bs4 import BeautifulSoup\n",
    "from datetime import date\n",
    "from datetime import datetime\n",
    "from newspaper import Article"
   ]
  },
  {
   "cell_type": "code",
   "execution_count": 3,
   "metadata": {},
   "outputs": [],
   "source": [
    "# Define the range of years for data collection\n",
    "years = range(2013, 2024)"
   ]
  },
  {
   "cell_type": "code",
   "execution_count": 4,
   "metadata": {},
   "outputs": [],
   "source": [
    "def web_scraper(url: str): \n",
    "    company_name = url.split('/')[-1]\n",
    "    # Initialize a DataFrame to store news data\n",
    "    news_data = pd.DataFrame(columns=['Date', 'Source', 'Headline', 'Link', 'Content'])   \n",
    "    for i, year in enumerate(years):\n",
    "        # Set the start date for each year\n",
    "        start_date = datetime(year, 1, 1).date()\n",
    "        end_date = datetime(year, 12, 31).date()\n",
    "        current_date = date.today()\n",
    "\n",
    "        # Number of pages to scrape for each year\n",
    "        pages = 50\n",
    "\n",
    "        for page_num in range(1, pages + 1):\n",
    "            # Check if current date is within the year range\n",
    "            if current_date > start_date and current_date <= end_date:\n",
    "                page_url = f'{url}/{page_num}'\n",
    "                try:\n",
    "                    response = requests.get(page_url)\n",
    "                    # Skip the page if server error occurs\n",
    "                    if response.status_code == 502:\n",
    "                        continue\n",
    "\n",
    "                    # Parse the HTML content of the page\n",
    "                    soup = BeautifulSoup(response.content, 'html.parser')\n",
    "                    articles = soup.find_all('li', {'class': \"common-articles-item js-article-item\"})\n",
    "\n",
    "                    # Iterate over each article in the page\n",
    "                    for article_tag in articles:\n",
    "                        time_tag = article_tag.find('time', {'datetime':article_tag.find('ul', attrs={'class': \"details-list\"}).find('time')['data-timestamp']}).text\n",
    "                        if 'ago' not in time_tag:\n",
    "                            article_date = datetime.strptime(time_tag,\"%b %d, %Y %H:%M\").date()                                             \n",
    "                        else:\n",
    "                            article_date = date.today()\n",
    "                            article_date = article_date.strftime(\"%b\")+' '+article_date.strftime(\"%d\")+','+' '+article_date.strftime(\"%Y\")+' '+'00:00'\n",
    "                        # Extract article source, headline, and link\n",
    "                        source = article_tag.find('ul', attrs={'class': \"details-list\"}).find('li').text\n",
    "                        headline = article_tag.find('h3', attrs={'class': \"title\"})['title']\n",
    "                        link = 'https://in.investing.com' + article_tag.find('h3', attrs={'class': \"title\"}).find('a')['href']\n",
    "\n",
    "                        # Download and parse the article content\n",
    "                        article_instance = Article(link)\n",
    "                        article_instance.download()\n",
    "                        article_instance.parse()\n",
    "                        content = article_instance.text\n",
    "\n",
    "                        # Create a row of data for the article\n",
    "                        news_row = {'Date': article_date, 'Source': source, 'Headline': headline, 'Link': link, 'Content': content}\n",
    "                        # Add the row to the DataFrame\n",
    "                        news_data = pd.concat([news_data, pd.DataFrame([news_row])], ignore_index=True)\n",
    "\n",
    "                except requests.exceptions.RequestException as e:\n",
    "                    print(f\"Error on page {page_num}: {e}\")\n",
    "\n",
    "        # Reset the index of the DataFrame after each year\n",
    "        news_data.reset_index(drop=True, inplace=True)\n",
    "    \n",
    "    # Export the data to a CSV file (optional)\n",
    "    news_data.to_csv(f'./data/news_data_{company_name}_{pages}.csv', index=False)"
   ]
  },
  {
   "cell_type": "code",
   "execution_count": 5,
   "metadata": {},
   "outputs": [],
   "source": [
    "meta_str = 'https://in.investing.com/equities/facebook-inc-news'\n",
    "apple_str = 'https://in.investing.com/equities/apple-computer-inc-news'\n",
    "amazon_str = 'https://in.investing.com/equities/amazon-com-inc-news'\n",
    "netflix_str = 'https://in.investing.com/equities/netflix,-inc.-news'\n",
    "google_str = 'https://in.investing.com/equities/google-inc-c-news'"
   ]
  },
  {
   "cell_type": "code",
   "execution_count": 6,
   "metadata": {},
   "outputs": [],
   "source": [
    "# web_scraper(meta_str)\n",
    "# web_scraper(apple_str)\n",
    "#web_scraper(amazon_str)\n",
    "web_scraper(netflix_str)\n",
    "web_scraper(google_str)"
   ]
  },
  {
   "cell_type": "code",
   "execution_count": null,
   "metadata": {},
   "outputs": [],
   "source": []
  }
 ],
 "metadata": {
  "kernelspec": {
   "display_name": ".venv",
   "language": "python",
   "name": "python3"
  },
  "language_info": {
   "codemirror_mode": {
    "name": "ipython",
    "version": 3
   },
   "file_extension": ".py",
   "mimetype": "text/x-python",
   "name": "python",
   "nbconvert_exporter": "python",
   "pygments_lexer": "ipython3",
   "version": "3.9.5"
  }
 },
 "nbformat": 4,
 "nbformat_minor": 2
}
