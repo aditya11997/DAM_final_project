{
 "cells": [
  {
   "cell_type": "code",
   "execution_count": 1,
   "metadata": {},
   "outputs": [],
   "source": [
    "import datetime\n",
    "import numpy as np\n",
    "import pandas as pd\n",
    "import requests\n",
    "from bs4 import BeautifulSoup\n",
    "from datetime import date\n",
    "from datetime import datetime\n",
    "from newspaper import Article"
   ]
  },
  {
   "cell_type": "code",
   "execution_count": 5,
   "metadata": {},
   "outputs": [],
   "source": [
    "# Initialize a DataFrame to store news data\n",
    "news_data = pd.DataFrame(columns=['Date', 'Source', 'Headline', 'Link', 'Content'])\n",
    "\n",
    "# Define the range of years for data collection\n",
    "years = range(2013, 2024)"
   ]
  },
  {
   "cell_type": "code",
   "execution_count": 7,
   "metadata": {},
   "outputs": [
    {
     "name": "stdout",
     "output_type": "stream",
     "text": [
      "0th year\n",
      "1th year\n",
      "2th year\n",
      "3th year\n",
      "4th year\n",
      "5th year\n",
      "6th year\n",
      "7th year\n",
      "8th year\n",
      "9th year\n",
      "10th year\n"
     ]
    }
   ],
   "source": [
    "for i, year in enumerate(years):\n",
    "    print(f'{i}th year')\n",
    "    # Set the start date for each year\n",
    "    start_date = datetime(year, 1, 1).date()\n",
    "    end_date = datetime(year, 12, 31).date()\n",
    "    current_date = date.today()\n",
    "\n",
    "    # Number of pages to scrape for each year\n",
    "    pages = 50\n",
    "\n",
    "    for page_num in range(1, pages + 1):\n",
    "        # Check if current date is within the year range\n",
    "        if current_date > start_date and current_date <= end_date:\n",
    "            page_url = f'https://in.investing.com/equities/facebook-inc-news/{page_num}'\n",
    "            try:\n",
    "                response = requests.get(page_url)\n",
    "                # Skip the page if server error occurs\n",
    "                if response.status_code == 502:\n",
    "                    continue\n",
    "\n",
    "                # Parse the HTML content of the page\n",
    "                soup = BeautifulSoup(response.content, 'html.parser')\n",
    "                articles = soup.find_all('li', {'class': \"common-articles-item js-article-item\"})\n",
    "\n",
    "                # Iterate over each article in the page\n",
    "                for article_tag in articles:\n",
    "                    time_tag = article_tag.find('time')\n",
    "                    # Extract the date and convert it to a readable format\n",
    "                    if time_tag and 'datetime' in time_tag.attrs:\n",
    "                        article_date_text = time_tag['datetime']\n",
    "                        article_date = datetime.fromtimestamp(int(article_date_text)).strftime(\"%b %d, %Y %H:%M\")\n",
    "                    else:\n",
    "                        article_date = 'Unknown Date'\n",
    "                    # Extract article source, headline, and link\n",
    "                    source = article_tag.find('ul', attrs={'class': \"details-list\"}).find('li').text\n",
    "                    headline = article_tag.find('h3', attrs={'class': \"title\"})['title']\n",
    "                    link = 'https://in.investing.com' + article_tag.find('h3', attrs={'class': \"title\"}).find('a')['href']\n",
    "\n",
    "                    # Download and parse the article content\n",
    "                    article_instance = Article(link)\n",
    "                    article_instance.download()\n",
    "                    article_instance.parse()\n",
    "                    content = article_instance.text\n",
    "\n",
    "                    # Create a row of data for the article\n",
    "                    news_row = {'Date': article_date, 'Source': source, 'Headline': headline, 'Link': link, 'Content': content}\n",
    "                    # Add the row to the DataFrame\n",
    "                    news_data = pd.concat([news_data, pd.DataFrame([news_row])], ignore_index=True)\n",
    "\n",
    "            except requests.exceptions.RequestException as e:\n",
    "                print(f\"Error on page {page_num}: {e}\")\n",
    "\n",
    "    # Reset the index of the DataFrame after each year\n",
    "    news_data.reset_index(drop=True, inplace=True)\n",
    "\n",
    "# Export the data to a CSV file (optional)\n",
    "news_data.to_csv('news_data.csv', index=False)"
   ]
  },
  {
   "cell_type": "code",
   "execution_count": null,
   "metadata": {},
   "outputs": [],
   "source": []
  }
 ],
 "metadata": {
  "kernelspec": {
   "display_name": ".venv",
   "language": "python",
   "name": "python3"
  },
  "language_info": {
   "codemirror_mode": {
    "name": "ipython",
    "version": 3
   },
   "file_extension": ".py",
   "mimetype": "text/x-python",
   "name": "python",
   "nbconvert_exporter": "python",
   "pygments_lexer": "ipython3",
   "version": "3.9.5"
  }
 },
 "nbformat": 4,
 "nbformat_minor": 2
}
